{
 "cells": [
  {
   "cell_type": "code",
   "execution_count": 1,
   "metadata": {},
   "outputs": [],
   "source": [
    "import numpy as np\n",
    "import matplotlib.pyplot as plt\n",
    "\n",
    "# np.ara\n",
    "# w(p) 􏰆 (pβ/(pβ 􏰄 (1 􏰅 p)β)1/β)\n",
    "\n"
   ]
  },
  {
   "cell_type": "markdown",
   "metadata": {},
   "source": [
    "http://websites.umich.edu/~gonzo/papers/shapewf.pdf"
   ]
  },
  {
   "cell_type": "code",
   "execution_count": 7,
   "metadata": {},
   "outputs": [
    {
     "ename": "TypeError",
     "evalue": "unsupported operand type(s) for ^: 'float' and 'int'",
     "output_type": "error",
     "traceback": [
      "\u001b[0;31m---------------------------------------------------------------------------\u001b[0m",
      "\u001b[0;31mTypeError\u001b[0m                                 Traceback (most recent call last)",
      "\u001b[1;32m/Users/sunaybhat/Documents/GitHub/PythonPrograms/Prospect_Pareto.ipynb Cell 3'\u001b[0m in \u001b[0;36m<module>\u001b[0;34m\u001b[0m\n\u001b[1;32m      <a href='vscode-notebook-cell:/Users/sunaybhat/Documents/GitHub/PythonPrograms/Prospect_Pareto.ipynb#ch0000002?line=0'>1</a>\u001b[0m gamma \u001b[39m=\u001b[39m \u001b[39m0.2\u001b[39m\n\u001b[0;32m----> <a href='vscode-notebook-cell:/Users/sunaybhat/Documents/GitHub/PythonPrograms/Prospect_Pareto.ipynb#ch0000002?line=2'>3</a>\u001b[0m \u001b[39m1\u001b[39m\u001b[39m/\u001b[39m(np\u001b[39m.\u001b[39mpi \u001b[39m*\u001b[39m gamma) \u001b[39m*\u001b[39m (gamma\u001b[39m^\u001b[39;49m\u001b[39m2\u001b[39;49m)\n",
      "\u001b[0;31mTypeError\u001b[0m: unsupported operand type(s) for ^: 'float' and 'int'"
     ]
    }
   ],
   "source": [
    "gamma = 0.2\n",
    "\n",
    "1/(np.pi * gamma) * (gamma^2)"
   ]
  },
  {
   "cell_type": "code",
   "execution_count": 13,
   "metadata": {},
   "outputs": [
    {
     "data": {
      "text/plain": [
       "0.04000000000000001"
      ]
     },
     "execution_count": 13,
     "metadata": {},
     "output_type": "execute_result"
    }
   ],
   "source": [
    "np.power(gamma,2)"
   ]
  }
 ],
 "metadata": {
  "interpreter": {
   "hash": "3d2bfa5d80f25c8bc046fade44294a8404c4930e8a129b0381351b3d584ab685"
  },
  "kernelspec": {
   "display_name": "Python 3.8.5 ('random')",
   "language": "python",
   "name": "python3"
  },
  "language_info": {
   "codemirror_mode": {
    "name": "ipython",
    "version": 3
   },
   "file_extension": ".py",
   "mimetype": "text/x-python",
   "name": "python",
   "nbconvert_exporter": "python",
   "pygments_lexer": "ipython3",
   "version": "3.8.5"
  },
  "orig_nbformat": 4
 },
 "nbformat": 4,
 "nbformat_minor": 2
}
